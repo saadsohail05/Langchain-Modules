{
 "cells": [
  {
   "cell_type": "markdown",
   "metadata": {},
   "source": [
    "### Text Splitting - Character Text Splitter"
   ]
  },
  {
   "cell_type": "code",
   "execution_count": 1,
   "metadata": {},
   "outputs": [],
   "source": [
    "from langchain_community.document_loaders import TextLoader"
   ]
  },
  {
   "cell_type": "code",
   "execution_count": 7,
   "metadata": {},
   "outputs": [
    {
     "data": {
      "text/plain": [
       "[Document(metadata={'source': './Data Ingestion/speech.txt'}, page_content=\"Thank you for being here today! It’s great to see so many familiar faces and some new ones as well. We’re gathered here to celebrate the progress we’ve made and to look forward to the future together.\\n\\nOver the past few weeks, we’ve faced a lot of challenges, each one testing our resilience, our creativity, and our commitment to the goals we set for ourselves. But I’m incredibly proud of the way we’ve pulled together as a team. We've brainstormed, strategized, and executed ideas that were once only concepts.\\n\\nAs we move forward, let’s carry this momentum with us. There will always be new obstacles, but every challenge is just an opportunity to innovate. Let’s keep collaborating, supporting each other, and celebrating our wins, big and small. Together, we can achieve even more than we think is possible.\\n\\nThank you for your hard work and dedication. Here’s to many more successes to come!\")]"
      ]
     },
     "execution_count": 7,
     "metadata": {},
     "output_type": "execute_result"
    }
   ],
   "source": [
    "loader=TextLoader(\"./Data Ingestion/speech.txt\")\n",
    "docs=loader.load()\n",
    "docs"
   ]
  },
  {
   "cell_type": "code",
   "execution_count": 8,
   "metadata": {},
   "outputs": [],
   "source": [
    "from langchain_text_splitters import CharacterTextSplitter"
   ]
  },
  {
   "cell_type": "code",
   "execution_count": 10,
   "metadata": {},
   "outputs": [],
   "source": [
    "text_splitter=CharacterTextSplitter(separator=\"\\n\\n\",chunk_size=1000,chunk_overlap=20)\n",
    "docs_split=text_splitter.split_documents(docs)"
   ]
  },
  {
   "cell_type": "code",
   "execution_count": 11,
   "metadata": {},
   "outputs": [
    {
     "data": {
      "text/plain": [
       "[Document(metadata={'source': './Data Ingestion/speech.txt'}, page_content=\"Thank you for being here today! It’s great to see so many familiar faces and some new ones as well. We’re gathered here to celebrate the progress we’ve made and to look forward to the future together.\\n\\nOver the past few weeks, we’ve faced a lot of challenges, each one testing our resilience, our creativity, and our commitment to the goals we set for ourselves. But I’m incredibly proud of the way we’ve pulled together as a team. We've brainstormed, strategized, and executed ideas that were once only concepts.\\n\\nAs we move forward, let’s carry this momentum with us. There will always be new obstacles, but every challenge is just an opportunity to innovate. Let’s keep collaborating, supporting each other, and celebrating our wins, big and small. Together, we can achieve even more than we think is possible.\\n\\nThank you for your hard work and dedication. Here’s to many more successes to come!\")]"
      ]
     },
     "execution_count": 11,
     "metadata": {},
     "output_type": "execute_result"
    }
   ],
   "source": [
    "docs_split"
   ]
  },
  {
   "cell_type": "code",
   "execution_count": 16,
   "metadata": {},
   "outputs": [],
   "source": [
    "with open(\"./Data Ingestion/speech.txt\") as f:\n",
    "    text=f.read()"
   ]
  },
  {
   "cell_type": "code",
   "execution_count": 18,
   "metadata": {},
   "outputs": [
    {
     "name": "stdout",
     "output_type": "stream",
     "text": [
      "page_content='The world must be made safe for democracy. Its peace must be planted upon the tested foundations of political liberty. We have no selfish ends to serve. We desire no conquest, no dominion. We seek no indemnities for ourselves, no material compensation for the sacrifices we shall freely make. We are but one of the champions of the rights of mankind. We shall be satisfied when those rights have been made as secure as the faith and the freedom of nations can make them.\n",
      "\n",
      "Just because we fight without rancor and without selfish object, seeking nothing for ourselves but what we shall wish to share with all free peoples, we shall, I feel confident, conduct our operations as belligerents without passion and ourselves observe with proud punctilio the principles of right and of fair play we profess to be fighting for.\n",
      "\n",
      "…'\n",
      "page_content='…\n",
      "\n",
      "It will be all the easier for us to conduct ourselves as belligerents in a high spirit of right and fairness because we act without animus, not in enmity toward a people or with the desire to bring any injury or disadvantage upon them, but only in armed opposition to an irresponsible government which has thrown aside all considerations of humanity and of right and is running amuck. We are, let me say again, the sincere friends of the German people, and shall desire nothing so much as the early reestablishment of intimate relations of mutual advantage between us—however hard it may be for them, for the time being, to believe that this is spoken from our hearts.'\n"
     ]
    }
   ],
   "source": [
    "text_splitter=CharacterTextSplitter(separator=\"\\n\\n\",chunk_size=1000,chunk_overlap=20)\n",
    "text_split=text_splitter.create_documents([text])\n",
    "print(text_split[0])\n",
    "print(text_split[1])\n",
    "\n",
    "\n"
   ]
  }
 ],
 "metadata": {
  "kernelspec": {
   "display_name": "venv",
   "language": "python",
   "name": "python3"
  },
  "language_info": {
   "codemirror_mode": {
    "name": "ipython",
    "version": 3
   },
   "file_extension": ".py",
   "mimetype": "text/x-python",
   "name": "python",
   "nbconvert_exporter": "python",
   "pygments_lexer": "ipython3",
   "version": "3.12.3"
  }
 },
 "nbformat": 4,
 "nbformat_minor": 2
}
